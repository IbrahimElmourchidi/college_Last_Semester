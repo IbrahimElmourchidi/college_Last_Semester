{
 "cells": [
  {
   "cell_type": "code",
   "execution_count": 1,
   "id": "b7d829af",
   "metadata": {},
   "outputs": [],
   "source": [
    "import networkx as nx"
   ]
  },
  {
   "cell_type": "code",
   "execution_count": 2,
   "id": "3b75588b",
   "metadata": {},
   "outputs": [],
   "source": [
    "# create undirected graph\n",
    "uGraph = nx.Graph()"
   ]
  },
  {
   "cell_type": "code",
   "execution_count": 3,
   "id": "87cb1d56",
   "metadata": {},
   "outputs": [],
   "source": [
    "# add a single node\n",
    "uGraph.add_node('a')"
   ]
  },
  {
   "cell_type": "code",
   "execution_count": 4,
   "id": "f8efb7e6",
   "metadata": {},
   "outputs": [],
   "source": [
    "# add multiple nodes\n",
    "uGraph.add_nodes_from(['a', 'b', 'c'])"
   ]
  },
  {
   "cell_type": "code",
   "execution_count": 5,
   "id": "e961d5a3",
   "metadata": {},
   "outputs": [],
   "source": [
    "# add an edge to the graph\n",
    "uGraph.add_edge('a','b')"
   ]
  },
  {
   "cell_type": "code",
   "execution_count": 6,
   "id": "69918fc4",
   "metadata": {},
   "outputs": [],
   "source": [
    "# add multiple edges\n",
    "uGraph.add_edges_from([('a','c'),('b','c'),('c','d')])"
   ]
  },
  {
   "cell_type": "code",
   "execution_count": 7,
   "id": "033c7b83",
   "metadata": {},
   "outputs": [
    {
     "data": {
      "image/png": "[encoded data removed]",
      "text/plain": [
       "<Figure size 432x288 with 1 Axes>"
      ]
     },
     "metadata": {},
     "output_type": "display_data"
    }
   ],
   "source": [
    "# draw the graph\n",
    "nx.draw(uGraph, with_labels=True)"
   ]
  },
  {
   "cell_type": "code",
   "execution_count": 8,
   "id": "14d31a60",
   "metadata": {},
   "outputs": [
    {
     "data": {
      "image/png": "[encoded data removed]",
      "text/plain": [
       "<Figure size 432x288 with 1 Axes>"
      ]
     },
     "metadata": {},
     "output_type": "display_data"
    }
   ],
   "source": [
    "nx.draw(uGraph, with_labels=True, node_color=\"orange\", node_size=1600, font_size=19)"
   ]
  },
  {
   "cell_type": "code",
   "execution_count": 9,
   "id": "0862d161",
   "metadata": {},
   "outputs": [
    {
     "data": {
      "text/plain": [
       "NodeView(('a', 'b', 'c', 'd'))"
      ]
     },
     "execution_count": 9,
     "metadata": {},
     "output_type": "execute_result"
    }
   ],
   "source": [
    "# get all nodes of the graph\n",
    "uGraph.nodes()"
   ]
  },
  {
   "cell_type": "code",
   "execution_count": 10,
   "id": "b895fec2",
   "metadata": {},
   "outputs": [
    {
     "data": {
      "text/plain": [
       "EdgeView([('a', 'b'), ('a', 'c'), ('b', 'c'), ('c', 'd')])"
      ]
     },
     "execution_count": 10,
     "metadata": {},
     "output_type": "execute_result"
    }
   ],
   "source": [
    "#get all edges\n",
    "uGraph.edges()"
   ]
  },
  {
   "cell_type": "code",
   "execution_count": 11,
   "id": "29c208b6",
   "metadata": {},
   "outputs": [
    {
     "name": "stdout",
     "output_type": "stream",
     "text": [
      "a\n",
      "b\n",
      "c\n",
      "d\n"
     ]
    }
   ],
   "source": [
    "# print the nodes with for loop\n",
    "for node in uGraph.nodes():\n",
    "    print(node)"
   ]
  },
  {
   "cell_type": "code",
   "execution_count": 12,
   "id": "e2e2e4c7",
   "metadata": {},
   "outputs": [
    {
     "name": "stdout",
     "output_type": "stream",
     "text": [
      "('a', 'b')\n",
      "('a', 'c')\n",
      "('b', 'c')\n",
      "('c', 'd')\n"
     ]
    }
   ],
   "source": [
    "#print all edges with for loop\n",
    "for edge in uGraph.edges():\n",
    "    print(edge)"
   ]
  },
  {
   "cell_type": "code",
   "execution_count": 13,
   "id": "725dad79",
   "metadata": {},
   "outputs": [
    {
     "name": "stdout",
     "output_type": "stream",
     "text": [
      "4\n",
      "4\n"
     ]
    }
   ],
   "source": [
    "# get the number of edges and nodes\n",
    "print(uGraph.number_of_edges())\n",
    "print(uGraph.number_of_nodes())"
   ]
  },
  {
   "cell_type": "code",
   "execution_count": 14,
   "id": "4f51683a",
   "metadata": {},
   "outputs": [
    {
     "name": "stdout",
     "output_type": "stream",
     "text": [
      "['a', 'c']\n"
     ]
    }
   ],
   "source": [
    "# get all the nighbours of a node\n",
    "print(list(uGraph.neighbors('b')))"
   ]
  },
  {
   "cell_type": "code",
   "execution_count": 15,
   "id": "d27f085a",
   "metadata": {},
   "outputs": [
    {
     "name": "stdout",
     "output_type": "stream",
     "text": [
      "a\n",
      "c\n"
     ]
    }
   ],
   "source": [
    "# print the neighbors using for loop\n",
    "sideEffect = [print(n) for n in uGraph.neighbors('b')]"
   ]
  },
  {
   "cell_type": "code",
   "execution_count": 16,
   "id": "74615d65",
   "metadata": {},
   "outputs": [
    {
     "name": "stdout",
     "output_type": "stream",
     "text": [
      "False\n"
     ]
    }
   ],
   "source": [
    "# check if the graph represents a tree or not\n",
    "print(nx.is_tree(uGraph))"
   ]
  },
  {
   "cell_type": "code",
   "execution_count": 17,
   "id": "8f8c52b2",
   "metadata": {},
   "outputs": [
    {
     "name": "stdout",
     "output_type": "stream",
     "text": [
      "True\n"
     ]
    }
   ],
   "source": [
    "# check if the graph is connected\n",
    "print(nx.is_connected(uGraph))"
   ]
  },
  {
   "cell_type": "code",
   "execution_count": 18,
   "id": "9c74479e",
   "metadata": {},
   "outputs": [
    {
     "name": "stdout",
     "output_type": "stream",
     "text": [
      "True\n",
      "False\n"
     ]
    }
   ],
   "source": [
    "# check if a node exists in a graph\n",
    "print(uGraph.has_node('a')) # this node exists\n",
    "print(uGraph.has_node('e')) # this node doesn't exist"
   ]
  },
  {
   "cell_type": "code",
   "execution_count": 19,
   "id": "c36ca43e",
   "metadata": {},
   "outputs": [
    {
     "name": "stdout",
     "output_type": "stream",
     "text": [
      "True\n",
      "False\n"
     ]
    }
   ],
   "source": [
    "# check if two nodes are connected by edge\n",
    "print(uGraph.has_edge('a','b')) # this edge exists\n",
    "print(uGraph.has_edge('a','d')) # this edge doesn't exist"
   ]
  },
  {
   "cell_type": "code",
   "execution_count": 20,
   "id": "abdee599",
   "metadata": {},
   "outputs": [
    {
     "name": "stdout",
     "output_type": "stream",
     "text": [
      "True\n",
      "True\n"
     ]
    }
   ],
   "source": [
    "# you can also use the in operator to check if a node or an edge exists\n",
    "print('a' in uGraph.nodes())\n",
    "print(('a', 'b') in uGraph.edges())"
   ]
  },
  {
   "cell_type": "markdown",
   "id": "bbd068b1",
   "metadata": {},
   "source": [
    "# Node Degree"
   ]
  },
  {
   "cell_type": "code",
   "execution_count": 22,
   "id": "6188db38",
   "metadata": {},
   "outputs": [
    {
     "name": "stdout",
     "output_type": "stream",
     "text": [
      "2\n",
      "2\n"
     ]
    }
   ],
   "source": [
    "# node degree is simple how many nodes are connected with that node\n",
    "print(len(list(uGraph.neighbors('a'))))\n",
    "print(uGraph.degree('a')) "
   ]
  },
  {
   "cell_type": "markdown",
   "id": "ac73fb7b",
   "metadata": {},
   "source": [
    "## Exercise 1\n",
    "write a function that takes a graph as an argument and returns a list of all the nodes with degree 1."
   ]
  },
  {
   "cell_type": "code",
   "execution_count": 26,
   "id": "4427f887",
   "metadata": {},
   "outputs": [],
   "source": [
    "def get_leaves(G):\n",
    "    return [node for node in G.nodes() if G.degree(node) ==1 ]"
   ]
  },
  {
   "cell_type": "code",
   "execution_count": 27,
   "id": "04b80c52",
   "metadata": {},
   "outputs": [
    {
     "data": {
      "text/plain": [
       "['d']"
      ]
     },
     "execution_count": 27,
     "metadata": {},
     "output_type": "execute_result"
    }
   ],
   "source": [
    "get_leaves(uGraph)"
   ]
  },
  {
   "cell_type": "markdown",
   "id": "5120c773",
   "metadata": {},
   "source": [
    "# side notes: python comprehensions"
   ]
  },
  {
   "cell_type": "code",
   "execution_count": 29,
   "id": "0314dee4",
   "metadata": {},
   "outputs": [
    {
     "data": {
      "text/plain": [
       "['HELLO', 'WORLD']"
      ]
     },
     "execution_count": 29,
     "metadata": {},
     "output_type": "execute_result"
    }
   ],
   "source": [
    "items = ['hello', 'world']\n",
    "[item.upper() for item in items] # this will create new list with upper case"
   ]
  },
  {
   "cell_type": "code",
   "execution_count": 34,
   "id": "58aeabbf",
   "metadata": {},
   "outputs": [
    {
     "name": "stdout",
     "output_type": "stream",
     "text": [
      "[('a', 2), ('b', 2), ('c', 3), ('d', 1)]\n"
     ]
    }
   ],
   "source": [
    "print([(n,uGraph.degree(n)) for n in uGraph.nodes()]) # print the degree of each node"
   ]
  },
  {
   "cell_type": "code",
   "execution_count": 37,
   "id": "bff42847",
   "metadata": {},
   "outputs": [
    {
     "data": {
      "text/plain": [
       "[5, 5]"
      ]
     },
     "execution_count": 37,
     "metadata": {},
     "output_type": "execute_result"
    }
   ],
   "source": [
    "# generator expressions are evaluated lazily\n",
    "generatorExp = (len(item) for item in items)\n",
    "list(generatorExp)"
   ]
  },
  {
   "cell_type": "code",
   "execution_count": 38,
   "id": "7d5db49f",
   "metadata": {},
   "outputs": [
    {
     "data": {
      "text/plain": [
       "5"
      ]
     },
     "execution_count": 38,
     "metadata": {},
     "output_type": "execute_result"
    }
   ],
   "source": [
    "max(len(item) for item in items)"
   ]
  },
  {
   "cell_type": "code",
   "execution_count": 39,
   "id": "34e7c6e6",
   "metadata": {},
   "outputs": [
    {
     "data": {
      "text/plain": [
       "['HELLO', 'WORLD']"
      ]
     },
     "execution_count": 39,
     "metadata": {},
     "output_type": "execute_result"
    }
   ],
   "source": [
    "sorted(item.upper() for item in items)"
   ]
  },
  {
   "cell_type": "markdown",
   "id": "0d71f1cd",
   "metadata": {},
   "source": [
    "# node names\n"
   ]
  },
  {
   "cell_type": "code",
   "execution_count": 40,
   "id": "c6e70491",
   "metadata": {},
   "outputs": [],
   "source": [
    "namedGraph = nx.Graph()"
   ]
  },
  {
   "cell_type": "code",
   "execution_count": 41,
   "id": "52d70cdc",
   "metadata": {},
   "outputs": [],
   "source": [
    "nodes = ['dog', 'cat', 13, 'virus']"
   ]
  },
  {
   "cell_type": "code",
   "execution_count": 42,
   "id": "bf0567cc",
   "metadata": {},
   "outputs": [],
   "source": [
    "namedGraph.add_nodes_from(nodes)"
   ]
  },
  {
   "cell_type": "code",
   "execution_count": 43,
   "id": "fb6f5577",
   "metadata": {},
   "outputs": [],
   "source": [
    "namedGraph.add_edge('dog', 'cat')"
   ]
  },
  {
   "cell_type": "code",
   "execution_count": 48,
   "id": "7bb4a015",
   "metadata": {},
   "outputs": [
    {
     "data": {
      "image/png": "[encoded data removed]",
      "text/plain": [
       "<Figure size 432x288 with 1 Axes>"
      ]
     },
     "metadata": {},
     "output_type": "display_data"
    }
   ],
   "source": [
    "nx.draw(namedGraph, with_labels=True, font_size=14, node_size=2000, node_color='orange')"
   ]
  },
  {
   "cell_type": "markdown",
   "id": "1b451208",
   "metadata": {},
   "source": [
    "# adjacency list\n"
   ]
  },
  {
   "cell_type": "code",
   "execution_count": 50,
   "id": "8eb57039",
   "metadata": {},
   "outputs": [],
   "source": [
    "fileGraph = nx.read_adjlist('nodes.adjlist')"
   ]
  },
  {
   "cell_type": "code",
   "execution_count": 52,
   "id": "973baa93",
   "metadata": {},
   "outputs": [
    {
     "data": {
      "image/png": "[encoded data removed]",
      "text/plain": [
       "<Figure size 432x288 with 1 Axes>"
      ]
     },
     "metadata": {},
     "output_type": "display_data"
    }
   ],
   "source": [
    "nx.draw(fileGraph, with_labels=True, node_size=1200, node_color='orange')"
   ]
  },
  {
   "cell_type": "code",
   "execution_count": 53,
   "id": "285f1527",
   "metadata": {},
   "outputs": [
    {
     "data": {
      "text/plain": [
       "2"
      ]
     },
     "execution_count": 53,
     "metadata": {},
     "output_type": "execute_result"
    }
   ],
   "source": [
    "fileGraph.degree('a')"
   ]
  },
  {
   "cell_type": "markdown",
   "id": "29f1ee96",
   "metadata": {},
   "source": [
    "## Exercise2\n",
    "write a function that takes a graph as its argument and returns 2-tuple with the name and the degree of the node with the max degree"
   ]
  },
  {
   "cell_type": "code",
   "execution_count": 128,
   "id": "cc312aae",
   "metadata": {},
   "outputs": [],
   "source": [
    "def max_degree(G):\n",
    "    (degree, name) = max([(G.degree(node),node) for node in G.nodes()])\n",
    "    return (name, degree) "
   ]
  },
  {
   "cell_type": "code",
   "execution_count": 129,
   "id": "eb17420c",
   "metadata": {},
   "outputs": [
    {
     "data": {
      "text/plain": [
       "('c', 3)"
      ]
     },
     "execution_count": 129,
     "metadata": {},
     "output_type": "execute_result"
    }
   ],
   "source": [
    "max_degree(uGraph)"
   ]
  },
  {
   "cell_type": "markdown",
   "id": "63c9a4f7",
   "metadata": {},
   "source": [
    "## exercise 3"
   ]
  },
  {
   "cell_type": "code",
   "execution_count": 136,
   "id": "02b372f6",
   "metadata": {},
   "outputs": [],
   "source": [
    "def mutual_friends(G, node1, node2):\n",
    "    return [node for node in uGraph.nodes() if node in G.neighbors(node1) and node in G.neighbors(node2)]"
   ]
  },
  {
   "cell_type": "code",
   "execution_count": 137,
   "id": "eac356b6",
   "metadata": {},
   "outputs": [
    {
     "data": {
      "text/plain": [
       "['b']"
      ]
     },
     "execution_count": 137,
     "metadata": {},
     "output_type": "execute_result"
    }
   ],
   "source": [
    "mutual_friends(uGraph, 'c', 'a')"
   ]
  },
  {
   "cell_type": "code",
   "execution_count": 138,
   "id": "78fe9c03",
   "metadata": {},
   "outputs": [
    {
     "data": {
      "text/plain": [
       "[]"
      ]
     },
     "execution_count": 138,
     "metadata": {},
     "output_type": "execute_result"
    }
   ],
   "source": [
    "mutual_friends(uGraph, 'c', 'd')"
   ]
  },
  {
   "cell_type": "markdown",
   "id": "071c678b",
   "metadata": {},
   "source": [
    "# Directed Graph"
   ]
  },
  {
   "cell_type": "code",
   "execution_count": 139,
   "id": "147e53e7",
   "metadata": {},
   "outputs": [],
   "source": [
    "directedGraph = nx.DiGraph()"
   ]
  },
  {
   "cell_type": "code",
   "execution_count": 141,
   "id": "164e8c00",
   "metadata": {},
   "outputs": [],
   "source": [
    "directedGraph.add_edges_from([('c','b'),('c','a'),('c','d'),('a','b')])"
   ]
  },
  {
   "cell_type": "code",
   "execution_count": 144,
   "id": "420728b4",
   "metadata": {},
   "outputs": [
    {
     "data": {
      "image/png": "[encoded data removed]",
      "text/plain": [
       "<Figure size 432x288 with 1 Axes>"
      ]
     },
     "metadata": {},
     "output_type": "display_data"
    }
   ],
   "source": [
    "nx.draw(directedGraph, with_labels=True, node_color='purple', font_color='white', node_size=1600, font_size=19)"
   ]
  },
  {
   "cell_type": "code",
   "execution_count": 146,
   "id": "8f5789a9",
   "metadata": {},
   "outputs": [
    {
     "name": "stdout",
     "output_type": "stream",
     "text": [
      "True\n",
      "False\n",
      "True\n"
     ]
    }
   ],
   "source": [
    "# note the edges are now directed for example:\n",
    "print(directedGraph.has_edge('c','a')) #true\n",
    "print(directedGraph.has_edge('a','c')) #false\n",
    "print(uGraph.has_edge('a', 'c')) # undirected so true"
   ]
  },
  {
   "cell_type": "code",
   "execution_count": 150,
   "id": "b6b5f28f",
   "metadata": {},
   "outputs": [
    {
     "name": "stdout",
     "output_type": "stream",
     "text": [
      "out: ['b']\n",
      "in: ['c']\n"
     ]
    }
   ],
   "source": [
    "# get the out-neighbors and in-neighbors of a node\n",
    "print(\"out:\", list(directedGraph.successors('a'))) # out-neighbors\n",
    "print(\"in:\", list(directedGraph.predecessors('a'))) # in-neighbors"
   ]
  },
  {
   "cell_type": "code",
   "execution_count": 153,
   "id": "f7483f87",
   "metadata": {},
   "outputs": [
    {
     "name": "stdout",
     "output_type": "stream",
     "text": [
      "in-degree = 1\n",
      "out-degree = 1\n",
      "in+out = 2\n"
     ]
    }
   ],
   "source": [
    "# print the in and out degree of a node\n",
    "print(\"in-degree =\", directedGraph.in_degree('a'))\n",
    "print(\"out-degree =\", directedGraph.out_degree('a'))\n",
    "print(\"in+out =\", directedGraph.degree('a'))"
   ]
  },
  {
   "cell_type": "code",
   "execution_count": null,
   "id": "6540b040",
   "metadata": {},
   "outputs": [],
   "source": []
  }
 ],
 "metadata": {
  "kernelspec": {
   "display_name": "Python 3 (ipykernel)",
   "language": "python",
   "name": "python3"
  },
  "language_info": {
   "codemirror_mode": {
    "name": "ipython",
    "version": 3
   },
   "file_extension": ".py",
   "mimetype": "text/x-python",
   "name": "python",
   "nbconvert_exporter": "python",
   "pygments_lexer": "ipython3",
   "version": "3.9.2"
  }
 },
 "nbformat": 4,
 "nbformat_minor": 5
}
