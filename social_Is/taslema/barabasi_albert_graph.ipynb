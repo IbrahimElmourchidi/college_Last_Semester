{
 "cells": [
  {
   "cell_type": "code",
   "execution_count": 1,
   "id": "7a65cf05",
   "metadata": {},
   "outputs": [],
   "source": [
    "import random\n",
    "\n",
    "%matplotlib inline\n",
    "import networkx as nx"
   ]
  },
  {
   "cell_type": "code",
   "execution_count": null,
   "id": "fbbffed9",
   "metadata": {},
   "outputs": [],
   "source": [
    "def barabasi_albert_graph(N, m):\n",
    "    G = nx.complete_graph(m + 1)\n",
    "    for i in range(G.number_of_nodes(), N):\n",
    "        new_neighbors = []\n",
    "        possible_neighbors = list(G.nodes)\n",
    "        for _ in range(m):\n",
    "            degrees = [G.degree(n) for n in possible_neighbors]\n",
    "            j = random.choices(possible_neighbors, degrees)[0]\n",
    "            new_neighbors.append(j)\n",
    "            possible_neighbors.remove(j)\n",
    "        \n",
    "        for j in new_neighbors:\n",
    "            G.add_edge(i, j)\n",
    "\n",
    "    return G"
   ]
  }
 ],
 "metadata": {
  "kernelspec": {
   "display_name": "Python 3 (ipykernel)",
   "language": "python",
   "name": "python3"
  },
  "language_info": {
   "codemirror_mode": {
    "name": "ipython",
    "version": 3
   },
   "file_extension": ".py",
   "mimetype": "text/x-python",
   "name": "python",
   "nbconvert_exporter": "python",
   "pygments_lexer": "ipython3",
   "version": "3.9.2"
  }
 },
 "nbformat": 4,
 "nbformat_minor": 5
}
